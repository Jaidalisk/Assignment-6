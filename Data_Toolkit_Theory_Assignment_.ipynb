{
  "nbformat": 4,
  "nbformat_minor": 0,
  "metadata": {
    "colab": {
      "provenance": []
    },
    "kernelspec": {
      "name": "python3",
      "display_name": "Python 3"
    },
    "language_info": {
      "name": "python"
    }
  },
  "cells": [
    {
      "cell_type": "markdown",
      "source": [
        "What is NumPy, and why is it widely used in Python?\n",
        " - A Python library for numerical computing with support for multi-dimensional arrays and fast mathematical operations.\n",
        "\n"
      ],
      "metadata": {
        "id": "Y9KZdQwr0LL8"
      }
    },
    {
      "cell_type": "markdown",
      "source": [
        "How does broadcasting work in NumPy?\n",
        " - Automatically expands arrays with different shapes during arithmetic operations to match their dimensions.\n"
      ],
      "metadata": {
        "id": "ISN7f-4Z0LO4"
      }
    },
    {
      "cell_type": "markdown",
      "source": [
        "What is a Pandas DataFrame?\n",
        " - A two-dimensional, labeled data structure with columns of potentially different types.\n"
      ],
      "metadata": {
        "id": "ATw3wY6w0LRO"
      }
    },
    {
      "cell_type": "markdown",
      "source": [
        "Explain the use of the groupby() method in Pandas?\n",
        " - Used to group data and apply aggregate functions like sum, mean, or count on grouped data.\n"
      ],
      "metadata": {
        "id": "va1l9Czv0LTc"
      }
    },
    {
      "cell_type": "markdown",
      "source": [
        "Why is Seaborn preferred for statistical visualizations?\n",
        " - Preferred for statistical visualizations due to its high-level interface and built-in themes.\n"
      ],
      "metadata": {
        "id": "1nQ9FOt90LVp"
      }
    },
    {
      "cell_type": "markdown",
      "source": [
        "What are the differences between NumPy arrays and Python lists?\n",
        " - NumPy arrays are faster, support vectorized operations, and consume less memory.\n"
      ],
      "metadata": {
        "id": "_MM3v9Jg0LYA"
      }
    },
    {
      "cell_type": "markdown",
      "source": [
        "What is a heatmap, and when should it be used?\n",
        " - A graphical representation of data where values are represented by colors, often used for correlation matrices.\n"
      ],
      "metadata": {
        "id": "Wf64U1xk0Laq"
      }
    },
    {
      "cell_type": "markdown",
      "source": [
        "What does the term “vectorized operation” mean in NumPy?\n",
        " - Applying operations directly on entire arrays without explicit loops, improving speed and efficiency.\n"
      ],
      "metadata": {
        "id": "iyDLx6R50LdO"
      }
    },
    {
      "cell_type": "markdown",
      "source": [
        "How does Matplotlib differ from Plotly?\n",
        " - Matplotlib is static and highly customizable, while Plotly offers interactive and web-friendly plots.\n"
      ],
      "metadata": {
        "id": "Jvmslrqo0LgF"
      }
    },
    {
      "cell_type": "markdown",
      "source": [
        "What is the significance of hierarchical indexing in Pandas?\n",
        " - Enables multi-level indexing for more complex data structures and analysis.\n"
      ],
      "metadata": {
        "id": "AxHReuW00LiY"
      }
    },
    {
      "cell_type": "markdown",
      "source": [
        "What is the role of Seaborn’s pairplot() function?\n",
        " - Creates pairwise scatter plots for all numerical variables in a dataset to visualize relationships.\n"
      ],
      "metadata": {
        "id": "CScmGAqe0Lk7"
      }
    },
    {
      "cell_type": "markdown",
      "source": [
        "What is the purpose of the describe() function in Pandas?\n",
        " - Provides summary statistics (mean, count, std, etc.) for numerical columns in a DataFrame.\n"
      ],
      "metadata": {
        "id": "PBxaHB0j0LnW"
      }
    },
    {
      "cell_type": "markdown",
      "source": [
        "Why is handling missing data important in Pandas?\n",
        " - Ensures data integrity by imputing, filling, or dropping missing values for accurate analysis.\n"
      ],
      "metadata": {
        "id": "R-OowGch0LqO"
      }
    },
    {
      "cell_type": "markdown",
      "source": [
        "What are the benefits of using Plotly for data visualization?\n",
        " - Provides interactive, dynamic, and web-based visualizations with minimal effort.\n"
      ],
      "metadata": {
        "id": "uyMwGpfj0Lu5"
      }
    },
    {
      "cell_type": "markdown",
      "source": [
        "How does NumPy handle multidimensional arrays?\n",
        " - NumPy supports efficient creation, slicing, and manipulation of multi-dimensional arrays.\n"
      ],
      "metadata": {
        "id": "dmDAHWLk0Lw_"
      }
    },
    {
      "cell_type": "markdown",
      "source": [
        " What is the role of Bokeh in data visualization?\n",
        " - A Python library for creating interactive, web-based visualizations that can handle large datasets.\n"
      ],
      "metadata": {
        "id": "g9G4s4HD0Ly-"
      }
    },
    {
      "cell_type": "markdown",
      "source": [
        "Explain the difference between apply() and map() in Pandas?\n",
        " - apply() works on entire rows or columns, while map() applies a function element-wise on a series.\n"
      ],
      "metadata": {
        "id": "JuRF6yq-0L1C"
      }
    },
    {
      "cell_type": "markdown",
      "source": [
        "What are some advanced features of NumPy?\n",
        " - Includes broadcasting, linear algebra, random sampling, and fast Fourier transforms.\n"
      ],
      "metadata": {
        "id": "qGRlOb2p0L3W"
      }
    },
    {
      "cell_type": "markdown",
      "source": [
        "How does Pandas simplify time series analysis?\n",
        " - Simplifies indexing, resampling, rolling windows, and datetime manipulations.\n"
      ],
      "metadata": {
        "id": "blCSoL482oi5"
      }
    },
    {
      "cell_type": "markdown",
      "source": [
        "What is the role of a pivot table in Pandas?\n",
        " - Summarizes data by performing aggregations over multiple dimensions.\n"
      ],
      "metadata": {
        "id": "M4hrGmrZ2oYx"
      }
    },
    {
      "cell_type": "markdown",
      "source": [
        "Why is NumPy’s array slicing faster than Python’s list slicing?\n",
        " - Array slicing is faster due to its efficient memory handling and no type-checking overhead.\n"
      ],
      "metadata": {
        "id": "dc2vGWW32oVx"
      }
    },
    {
      "cell_type": "markdown",
      "source": [
        "What are some common use cases for Seaborn?\n",
        " - Commonly used for statistical plots, correlation analysis, and enhancing Matplotlib plots."
      ],
      "metadata": {
        "id": "YQmEbxuE2oSZ"
      }
    },
    {
      "cell_type": "markdown",
      "source": [],
      "metadata": {
        "id": "sxGFbZEz2oL3"
      }
    },
    {
      "cell_type": "markdown",
      "source": [],
      "metadata": {
        "id": "ucixQS7K2oGn"
      }
    },
    {
      "cell_type": "markdown",
      "source": [],
      "metadata": {
        "id": "yGEG29fT2n9P"
      }
    }
  ]
}